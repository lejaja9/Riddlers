{
 "cells": [
  {
   "cell_type": "code",
   "execution_count": 48,
   "metadata": {},
   "outputs": [],
   "source": [
    "import pandas as pd\n",
    "import matplotlib.pyplot as plt"
   ]
  },
  {
   "cell_type": "code",
   "execution_count": 49,
   "metadata": {},
   "outputs": [],
   "source": [
    "memo = [[0]*26 for i in range(26)]\n",
    "memo[1][1] = 1\n",
    "memo[2][1] = 1\n",
    "memo[2][2] = 2\n",
    "memo[3][1] = 1\n",
    "memo[3][2] = 2\n",
    "memo[3][3] = 3"
   ]
  },
  {
   "cell_type": "code",
   "execution_count": 50,
   "metadata": {},
   "outputs": [
    {
     "name": "stdout",
     "output_type": "stream",
     "text": [
      "[[1, 1], [2, 2], [3, 3], [4, 5], [5, 7], [6, 11], [7, 15], [8, 22], [9, 30], [10, 42], [11, 56], [12, 77], [13, 101], [14, 135], [15, 176], [16, 231], [17, 297], [18, 385], [19, 490], [20, 627], [21, 792], [22, 1002], [23, 1255], [24, 1575], [25, 1958]]\n"
     ]
    }
   ],
   "source": [
    "x = 4\n",
    "\n",
    "while x+1 <= len(memo):\n",
    "    for i in range(1,x+1):\n",
    "        if i == 1:\n",
    "            memo[x][i] = 1\n",
    "        elif i == x or i == (x-1):\n",
    "            memo[x][i] = memo[x][i-1] + 1\n",
    "        else:\n",
    "            mini = min(x-i,i)\n",
    "            memo[x][i] = memo[x][i-1] + memo[x-i][mini]\n",
    "    x += 1\n",
    "\n",
    "partition_numbers = []\n",
    "for i in range(1, len(memo)):\n",
    "    partition_numbers.append([i, memo[i][i]])\n",
    "print(partition_numbers)"
   ]
  },
  {
   "cell_type": "code",
   "execution_count": 51,
   "metadata": {},
   "outputs": [
    {
     "data": {
      "text/html": [
       "<div>\n",
       "<style scoped>\n",
       "    .dataframe tbody tr th:only-of-type {\n",
       "        vertical-align: middle;\n",
       "    }\n",
       "\n",
       "    .dataframe tbody tr th {\n",
       "        vertical-align: top;\n",
       "    }\n",
       "\n",
       "    .dataframe thead th {\n",
       "        text-align: right;\n",
       "    }\n",
       "</style>\n",
       "<table border=\"1\" class=\"dataframe\">\n",
       "  <thead>\n",
       "    <tr style=\"text-align: right;\">\n",
       "      <th></th>\n",
       "      <th>input</th>\n",
       "      <th>output</th>\n",
       "    </tr>\n",
       "  </thead>\n",
       "  <tbody>\n",
       "    <tr>\n",
       "      <th>0</th>\n",
       "      <td>1</td>\n",
       "      <td>1</td>\n",
       "    </tr>\n",
       "    <tr>\n",
       "      <th>1</th>\n",
       "      <td>2</td>\n",
       "      <td>2</td>\n",
       "    </tr>\n",
       "    <tr>\n",
       "      <th>2</th>\n",
       "      <td>3</td>\n",
       "      <td>3</td>\n",
       "    </tr>\n",
       "    <tr>\n",
       "      <th>3</th>\n",
       "      <td>4</td>\n",
       "      <td>5</td>\n",
       "    </tr>\n",
       "    <tr>\n",
       "      <th>4</th>\n",
       "      <td>5</td>\n",
       "      <td>7</td>\n",
       "    </tr>\n",
       "  </tbody>\n",
       "</table>\n",
       "</div>"
      ],
      "text/plain": [
       "   input  output\n",
       "0      1       1\n",
       "1      2       2\n",
       "2      3       3\n",
       "3      4       5\n",
       "4      5       7"
      ]
     },
     "execution_count": 51,
     "metadata": {},
     "output_type": "execute_result"
    }
   ],
   "source": [
    "df_numbers = pd.DataFrame(partition_numbers, columns = ['input', 'output'])\n",
    "df_numbers.head()"
   ]
  },
  {
   "cell_type": "code",
   "execution_count": 52,
   "metadata": {},
   "outputs": [
    {
     "name": "stdout",
     "output_type": "stream",
     "text": [
      "[[1, 1, 1], [2, 1, 1], [2, 2, 1], [3, 1, 1], [3, 2, 1], [3, 3, 1], [4, 1, 1], [4, 2, 2], [4, 3, 1], [4, 4, 1], [5, 1, 1], [5, 2, 2], [5, 3, 2], [5, 4, 1], [5, 5, 1], [6, 1, 1], [6, 2, 3], [6, 3, 3], [6, 4, 2], [6, 5, 1], [6, 6, 1], [7, 1, 1], [7, 2, 3], [7, 3, 4], [7, 4, 3], [7, 5, 2], [7, 6, 1], [7, 7, 1], [8, 1, 1], [8, 2, 4], [8, 3, 5], [8, 4, 5], [8, 5, 3], [8, 6, 2], [8, 7, 1], [8, 8, 1], [9, 1, 1], [9, 2, 4], [9, 3, 7], [9, 4, 6], [9, 5, 5], [9, 6, 3], [9, 7, 2], [9, 8, 1], [9, 9, 1], [10, 1, 1], [10, 2, 5], [10, 3, 8], [10, 4, 9], [10, 5, 7], [10, 6, 5], [10, 7, 3], [10, 8, 2], [10, 9, 1], [10, 10, 1], [11, 1, 1], [11, 2, 5], [11, 3, 10], [11, 4, 11], [11, 5, 10], [11, 6, 7], [11, 7, 5], [11, 8, 3], [11, 9, 2], [11, 10, 1], [11, 11, 1], [12, 1, 1], [12, 2, 6], [12, 3, 12], [12, 4, 15], [12, 5, 13], [12, 6, 11], [12, 7, 7], [12, 8, 5], [12, 9, 3], [12, 10, 2], [12, 11, 1], [12, 12, 1], [13, 1, 1], [13, 2, 6], [13, 3, 14], [13, 4, 18], [13, 5, 18], [13, 6, 14], [13, 7, 11], [13, 8, 7], [13, 9, 5], [13, 10, 3], [13, 11, 2], [13, 12, 1], [13, 13, 1], [14, 1, 1], [14, 2, 7], [14, 3, 16], [14, 4, 23], [14, 5, 23], [14, 6, 20], [14, 7, 15], [14, 8, 11], [14, 9, 7], [14, 10, 5], [14, 11, 3], [14, 12, 2], [14, 13, 1], [14, 14, 1], [15, 1, 1], [15, 2, 7], [15, 3, 19], [15, 4, 27], [15, 5, 30], [15, 6, 26], [15, 7, 21], [15, 8, 15], [15, 9, 11], [15, 10, 7], [15, 11, 5], [15, 12, 3], [15, 13, 2], [15, 14, 1], [15, 15, 1], [16, 1, 1], [16, 2, 8], [16, 3, 21], [16, 4, 34], [16, 5, 37], [16, 6, 35], [16, 7, 28], [16, 8, 22], [16, 9, 15], [16, 10, 11], [16, 11, 7], [16, 12, 5], [16, 13, 3], [16, 14, 2], [16, 15, 1], [16, 16, 1], [17, 1, 1], [17, 2, 8], [17, 3, 24], [17, 4, 39], [17, 5, 47], [17, 6, 44], [17, 7, 38], [17, 8, 29], [17, 9, 22], [17, 10, 15], [17, 11, 11], [17, 12, 7], [17, 13, 5], [17, 14, 3], [17, 15, 2], [17, 16, 1], [17, 17, 1], [18, 1, 1], [18, 2, 9], [18, 3, 27], [18, 4, 47], [18, 5, 57], [18, 6, 58], [18, 7, 49], [18, 8, 40], [18, 9, 30], [18, 10, 22], [18, 11, 15], [18, 12, 11], [18, 13, 7], [18, 14, 5], [18, 15, 3], [18, 16, 2], [18, 17, 1], [18, 18, 1], [19, 1, 1], [19, 2, 9], [19, 3, 30], [19, 4, 54], [19, 5, 70], [19, 6, 71], [19, 7, 65], [19, 8, 52], [19, 9, 41], [19, 10, 30], [19, 11, 22], [19, 12, 15], [19, 13, 11], [19, 14, 7], [19, 15, 5], [19, 16, 3], [19, 17, 2], [19, 18, 1], [19, 19, 1], [20, 1, 1], [20, 2, 10], [20, 3, 33], [20, 4, 64], [20, 5, 84], [20, 6, 90], [20, 7, 82], [20, 8, 70], [20, 9, 54], [20, 10, 42], [20, 11, 30], [20, 12, 22], [20, 13, 15], [20, 14, 11], [20, 15, 7], [20, 16, 5], [20, 17, 3], [20, 18, 2], [20, 19, 1], [20, 20, 1], [21, 1, 1], [21, 2, 10], [21, 3, 37], [21, 4, 72], [21, 5, 101], [21, 6, 110], [21, 7, 105], [21, 8, 89], [21, 9, 73], [21, 10, 55], [21, 11, 42], [21, 12, 30], [21, 13, 22], [21, 14, 15], [21, 15, 11], [21, 16, 7], [21, 17, 5], [21, 18, 3], [21, 19, 2], [21, 20, 1], [21, 21, 1], [22, 1, 1], [22, 2, 11], [22, 3, 40], [22, 4, 84], [22, 5, 119], [22, 6, 136], [22, 7, 131], [22, 8, 116], [22, 9, 94], [22, 10, 75], [22, 11, 56], [22, 12, 42], [22, 13, 30], [22, 14, 22], [22, 15, 15], [22, 16, 11], [22, 17, 7], [22, 18, 5], [22, 19, 3], [22, 20, 2], [22, 21, 1], [22, 22, 1], [23, 1, 1], [23, 2, 11], [23, 3, 44], [23, 4, 94], [23, 5, 141], [23, 6, 163], [23, 7, 164], [23, 8, 146], [23, 9, 123], [23, 10, 97], [23, 11, 76], [23, 12, 56], [23, 13, 42], [23, 14, 30], [23, 15, 22], [23, 16, 15], [23, 17, 11], [23, 18, 7], [23, 19, 5], [23, 20, 3], [23, 21, 2], [23, 22, 1], [23, 23, 1], [24, 1, 1], [24, 2, 12], [24, 3, 48], [24, 4, 108], [24, 5, 164], [24, 6, 199], [24, 7, 201], [24, 8, 186], [24, 9, 157], [24, 10, 128], [24, 11, 99], [24, 12, 77], [24, 13, 56], [24, 14, 42], [24, 15, 30], [24, 16, 22], [24, 17, 15], [24, 18, 11], [24, 19, 7], [24, 20, 5], [24, 21, 3], [24, 22, 2], [24, 23, 1], [24, 24, 1], [25, 1, 1], [25, 2, 12], [25, 3, 52], [25, 4, 120], [25, 5, 192], [25, 6, 235], [25, 7, 248], [25, 8, 230], [25, 9, 201], [25, 10, 164], [25, 11, 131], [25, 12, 100], [25, 13, 77], [25, 14, 56], [25, 15, 42], [25, 16, 30], [25, 17, 22], [25, 18, 15], [25, 19, 11], [25, 20, 7], [25, 21, 5], [25, 22, 3], [25, 23, 2], [25, 24, 1], [25, 25, 1]]\n"
     ]
    }
   ],
   "source": [
    "memo2 = [[0]*26 for i in range(26)]\n",
    "for i in range(1, len(memo2)):\n",
    "    for j in range(1, i+1):\n",
    "        memo2[i][j] = memo[i][j]-memo[i][j-1]\n",
    "# for i in range(len(memo2)):\n",
    "#     print(i, memo2[i])\n",
    "\n",
    "increments = []\n",
    "for i in range(len(memo2)):\n",
    "    for j in range(len(memo2[i])):\n",
    "        if memo2[i][j] != 0:\n",
    "            increments.append([i, j, memo2[i][j]])\n",
    "print(increments)\n"
   ]
  },
  {
   "cell_type": "markdown",
   "metadata": {},
   "source": [
    "Make dataframes to organize my numbers"
   ]
  },
  {
   "cell_type": "code",
   "execution_count": 53,
   "metadata": {},
   "outputs": [
    {
     "data": {
      "text/html": [
       "<div>\n",
       "<style scoped>\n",
       "    .dataframe tbody tr th:only-of-type {\n",
       "        vertical-align: middle;\n",
       "    }\n",
       "\n",
       "    .dataframe tbody tr th {\n",
       "        vertical-align: top;\n",
       "    }\n",
       "\n",
       "    .dataframe thead th {\n",
       "        text-align: right;\n",
       "    }\n",
       "</style>\n",
       "<table border=\"1\" class=\"dataframe\">\n",
       "  <thead>\n",
       "    <tr style=\"text-align: right;\">\n",
       "      <th></th>\n",
       "      <th>number</th>\n",
       "      <th>subpartition</th>\n",
       "      <th>increment</th>\n",
       "    </tr>\n",
       "  </thead>\n",
       "  <tbody>\n",
       "    <tr>\n",
       "      <th>0</th>\n",
       "      <td>1</td>\n",
       "      <td>1</td>\n",
       "      <td>1</td>\n",
       "    </tr>\n",
       "    <tr>\n",
       "      <th>1</th>\n",
       "      <td>2</td>\n",
       "      <td>1</td>\n",
       "      <td>1</td>\n",
       "    </tr>\n",
       "    <tr>\n",
       "      <th>2</th>\n",
       "      <td>2</td>\n",
       "      <td>2</td>\n",
       "      <td>1</td>\n",
       "    </tr>\n",
       "    <tr>\n",
       "      <th>3</th>\n",
       "      <td>3</td>\n",
       "      <td>1</td>\n",
       "      <td>1</td>\n",
       "    </tr>\n",
       "    <tr>\n",
       "      <th>4</th>\n",
       "      <td>3</td>\n",
       "      <td>2</td>\n",
       "      <td>1</td>\n",
       "    </tr>\n",
       "  </tbody>\n",
       "</table>\n",
       "</div>"
      ],
      "text/plain": [
       "   number  subpartition  increment\n",
       "0       1             1          1\n",
       "1       2             1          1\n",
       "2       2             2          1\n",
       "3       3             1          1\n",
       "4       3             2          1"
      ]
     },
     "execution_count": 53,
     "metadata": {},
     "output_type": "execute_result"
    }
   ],
   "source": [
    "df_intervals = pd.DataFrame(increments, columns = ['number', 'subpartition', 'increment'])\n",
    "df_intervals.head()"
   ]
  },
  {
   "cell_type": "code",
   "execution_count": null,
   "metadata": {},
   "outputs": [],
   "source": []
  },
  {
   "cell_type": "markdown",
   "metadata": {},
   "source": [
    "Look at growth of the first 25 partition numbers"
   ]
  },
  {
   "cell_type": "code",
   "execution_count": 54,
   "metadata": {},
   "outputs": [
    {
     "ename": "NameError",
     "evalue": "name 'df1' is not defined",
     "output_type": "error",
     "traceback": [
      "\u001b[0;31m---------------------------------------------------------------------------\u001b[0m",
      "\u001b[0;31mNameError\u001b[0m                                 Traceback (most recent call last)",
      "\u001b[0;32m/var/folders/qb/m523t88x4cbc9m38670pqwvm0000gn/T/ipykernel_13575/3556820562.py\u001b[0m in \u001b[0;36m<module>\u001b[0;34m\u001b[0m\n\u001b[1;32m      1\u001b[0m \u001b[0mfig\u001b[0m \u001b[0;34m=\u001b[0m \u001b[0mplt\u001b[0m\u001b[0;34m.\u001b[0m\u001b[0mfigure\u001b[0m\u001b[0;34m(\u001b[0m\u001b[0mfigsize\u001b[0m\u001b[0;34m=\u001b[0m\u001b[0;34m(\u001b[0m\u001b[0;36m15\u001b[0m\u001b[0;34m,\u001b[0m\u001b[0;36m12\u001b[0m\u001b[0;34m)\u001b[0m\u001b[0;34m)\u001b[0m\u001b[0;34m\u001b[0m\u001b[0;34m\u001b[0m\u001b[0m\n\u001b[1;32m      2\u001b[0m \u001b[0max\u001b[0m \u001b[0;34m=\u001b[0m \u001b[0mfig\u001b[0m\u001b[0;34m.\u001b[0m\u001b[0madd_subplot\u001b[0m\u001b[0;34m(\u001b[0m\u001b[0;34m)\u001b[0m\u001b[0;34m\u001b[0m\u001b[0;34m\u001b[0m\u001b[0m\n\u001b[0;32m----> 3\u001b[0;31m \u001b[0mplt\u001b[0m\u001b[0;34m.\u001b[0m\u001b[0mscatter\u001b[0m\u001b[0;34m(\u001b[0m\u001b[0mdf1\u001b[0m\u001b[0;34m[\u001b[0m\u001b[0;34m\"num1\"\u001b[0m\u001b[0;34m]\u001b[0m\u001b[0;34m,\u001b[0m \u001b[0mdf1\u001b[0m\u001b[0;34m[\u001b[0m\u001b[0;34m\"num2\"\u001b[0m\u001b[0;34m]\u001b[0m\u001b[0;34m,\u001b[0m \u001b[0mc\u001b[0m \u001b[0;34m=\u001b[0m \u001b[0mdf1\u001b[0m\u001b[0;34m[\u001b[0m\u001b[0;34m\"years\"\u001b[0m\u001b[0;34m]\u001b[0m\u001b[0;34m,\u001b[0m \u001b[0ms\u001b[0m \u001b[0;34m=\u001b[0m \u001b[0;36m19\u001b[0m\u001b[0;34m*\u001b[0m\u001b[0mdf1\u001b[0m\u001b[0;34m[\u001b[0m\u001b[0;34m\"years\"\u001b[0m\u001b[0;34m]\u001b[0m\u001b[0;34m,\u001b[0m \u001b[0malpha\u001b[0m \u001b[0;34m=\u001b[0m \u001b[0;36m0.5\u001b[0m\u001b[0;34m,\u001b[0m \u001b[0mcmap\u001b[0m\u001b[0;34m=\u001b[0m\u001b[0;34m'viridis_r'\u001b[0m\u001b[0;34m)\u001b[0m\u001b[0;34m\u001b[0m\u001b[0;34m\u001b[0m\u001b[0m\n\u001b[0m",
      "\u001b[0;31mNameError\u001b[0m: name 'df1' is not defined"
     ]
    },
    {
     "data": {
      "image/png": "[encoded data removed]",
      "text/plain": [
       "<Figure size 1080x864 with 1 Axes>"
      ]
     },
     "metadata": {
      "needs_background": "light"
     },
     "output_type": "display_data"
    }
   ],
   "source": [
    "fig = plt.figure(figsize=(15,12))\n",
    "ax = fig.add_subplot()\n",
    "#plt.scatter(df1[\"num1\"], df1[\"num2\"], c = df1[\"years\"], s = 19*df1[\"years\"], alpha = 0.5, cmap='viridis_r')"
   ]
  }
 ],
 "metadata": {
  "interpreter": {
   "hash": "871432909e13f0a6494aa10da24d4de1217f60734bfcbcfb1b51b488c0215f0c"
  },
  "kernelspec": {
   "display_name": "Python 3.8.12 64-bit ('pandas-2': conda)",
   "language": "python",
   "name": "python3"
  },
  "language_info": {
   "codemirror_mode": {
    "name": "ipython",
    "version": 3
   },
   "file_extension": ".py",
   "mimetype": "text/x-python",
   "name": "python",
   "nbconvert_exporter": "python",
   "pygments_lexer": "ipython3",
   "version": "3.8.12"
  },
  "orig_nbformat": 4
 },
 "nbformat": 4,
 "nbformat_minor": 2
}
