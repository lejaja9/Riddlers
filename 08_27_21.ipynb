{
 "cells": [
  {
   "cell_type": "code",
   "execution_count": 58,
   "metadata": {},
   "outputs": [],
   "source": [
    "import math\n",
    "import matplotlib.pyplot as plt\n",
    "from matplotlib.ticker import MultipleLocator"
   ]
  },
  {
   "cell_type": "code",
   "execution_count": 37,
   "metadata": {},
   "outputs": [],
   "source": [
    "me_x = [0]\n",
    "me_y = [50]\n",
    "Jarrison_x = [0]\n",
    "Jarrison_y = [0]\n",
    "\n",
    "def move(my_position, two_nine_position, speed):\n",
    "    #start at (0,50)\n",
    "    #Hames Jarrison starts at (0,0)\n",
    "    dx = my_position[0]-two_nine_position[0]\n",
    "    dy = my_position[1]-two_nine_position[1]\n",
    "    distance = math.sqrt(dx**2 + dy**2)\n",
    "\n",
    "    my_position[0] -= dx*(speed/distance)\n",
    "    my_position[1] -= dy*(speed/distance)\n",
    "    return my_position\n",
    "\n",
    "def run(my_speed, me = [0, 50], Hames_Jarrison = [0,0]):\n",
    "    speed = my_speed*0.001\n",
    "\n",
    "    while me[0] <= Hames_Jarrison[0]:\n",
    "        me = move(me, Hames_Jarrison, speed)\n",
    "        Hames_Jarrison[0] += 0.001\n",
    "        me_x.append(me[0])\n",
    "        me_y.append(me[1])\n",
    "        Jarrison_x.append(Hames_Jarrison[0])\n",
    "        Jarrison_y.append(Hames_Jarrison[1])\n",
    "    return Hames_Jarrison[0]"
   ]
  },
  {
   "cell_type": "code",
   "execution_count": 39,
   "metadata": {},
   "outputs": [
    {
     "data": {
      "text/plain": [
       "99.99900000011343"
      ]
     },
     "execution_count": 39,
     "metadata": {},
     "output_type": "execute_result"
    }
   ],
   "source": [
    "run(1.2807830047607422)"
   ]
  },
  {
   "cell_type": "code",
   "execution_count": 64,
   "metadata": {},
   "outputs": [
    {
     "data": {
      "text/plain": [
       "[<matplotlib.lines.Line2D at 0x7ff56272b700>]"
      ]
     },
     "execution_count": 64,
     "metadata": {},
     "output_type": "execute_result"
    },
    {
     "data": {
      "image/png": "[encoded data removed]",
      "text/plain": [
       "<Figure size 720x360 with 1 Axes>"
      ]
     },
     "metadata": {
      "needs_background": "light"
     },
     "output_type": "display_data"
    }
   ],
   "source": [
    "fig = plt.figure(figsize=(10,5))\n",
    "ax1 = fig.add_subplot()\n",
    "ax1.set_facecolor('green')\n",
    "ax1.xaxis.set_major_locator(MultipleLocator(10))\n",
    "ax1.grid(which = 'major', axis = 'x', linewidth = 2, color = 'white', alpha = 0.5)\n",
    "plt.plot(me_x, me_y, linewidth = 3, color = '#97233F')\n",
    "plt.plot(Jarrison_x, Jarrison_y, linewidth = 3, color = '#FFB612')"
   ]
  }
 ],
 "metadata": {
  "interpreter": {
   "hash": "871432909e13f0a6494aa10da24d4de1217f60734bfcbcfb1b51b488c0215f0c"
  },
  "kernelspec": {
   "display_name": "Python 3.8.12 64-bit ('pandas-2': conda)",
   "language": "python",
   "name": "python3"
  },
  "language_info": {
   "codemirror_mode": {
    "name": "ipython",
    "version": 3
   },
   "file_extension": ".py",
   "mimetype": "text/x-python",
   "name": "python",
   "nbconvert_exporter": "python",
   "pygments_lexer": "ipython3",
   "version": "3.8.12"
  },
  "orig_nbformat": 4
 },
 "nbformat": 4,
 "nbformat_minor": 2
}
